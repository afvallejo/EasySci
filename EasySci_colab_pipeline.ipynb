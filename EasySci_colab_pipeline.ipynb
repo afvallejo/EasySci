{
 "cells": [
  {
   "cell_type": "markdown",
   "id": "9dd881ac",
   "metadata": {},
   "source": [
    "# EasySci-RNA Colab Pipeline\n",
    "This notebook replicates the steps of `EasySci_pipeline.sh` so the analysis can be run directly in a Google Colab environment."
   ]
  },
  {
   "cell_type": "markdown",
   "id": "83c87453",
   "metadata": {},
   "source": [
    "## Clone repository\n",
    "First clone this repository and change into the project folder."
   ]
  },
  {
   "cell_type": "code",
   "execution_count": null,
   "id": "93587284",
   "metadata": {},
   "outputs": [],
   "source": [
    "!git clone https://github.com/your_user/EasySci.git\n",
    "%cd EasySci"
   ]
  },
  {
   "cell_type": "markdown",
   "id": "b4aa8961",
   "metadata": {},
   "source": [
    "## Install dependencies\n",
    "Install the tools required by the pipeline. Versions below match the `README.md` recommendations."
   ]
  },
  {
   "cell_type": "code",
   "execution_count": null,
   "id": "5a27edaf",
   "metadata": {},
   "outputs": [],
   "source": [
    "!apt-get update\n",
    "!apt-get install -y star samtools parallel\n",
    "!pip install trim-galore==0.6.10 htseq==2.0.3 pandas==1.5.2 numpy==1.23.5 scipy==1.10.0 biopython==1.81"
   ]
  },
  {
   "cell_type": "markdown",
   "id": "ab5a3336",
   "metadata": {},
   "source": [
    "## Define paths and parameters"
   ]
  },
  {
   "cell_type": "code",
   "execution_count": null,
   "id": "0930830d",
   "metadata": {},
   "outputs": [],
   "source": [
    "fastq_folder = '/path/to/fastqs'\n",
    "sample_id_file = '/path/to/sample_ids.txt'\n",
    "output_folder = '/path/to/output'\n",
    "star_index = '/path/to/STAR_index'\n",
    "gtf_file = '/path/to/annotation.gtf'\n",
    "gtf_file_exons = '/path/to/exon_annotation.gtf'\n",
    "rt_matching_file = 'script_folder/barcode_files/RT_barcode_matching.txt'\n",
    "cores = 8\n",
    "sequencing_type = 'paired-end'  # or 'single-end'"
   ]
  },
  {
   "cell_type": "markdown",
   "id": "a4f7fe33",
   "metadata": {},
   "source": [
    "## Rename FASTQ files\n",
    "Renames R1/R2/R3 files to a standard format."
   ]
  },
  {
   "cell_type": "code",
   "execution_count": null,
   "id": "c1a319f5",
   "metadata": {},
   "outputs": [],
   "source": [
    "import subprocess, pathlib\n",
    "for sample in open(sample_id_file):\n",
    "    s = sample.strip()\n",
    "    if not s:\n",
    "        continue\n",
    "    subprocess.run(f'mv {fastq_folder}/*{s}*R1*.fastq.gz {fastq_folder}/{s}.R1.fastq.gz', shell=True)\n",
    "    subprocess.run(f'mv {fastq_folder}/*{s}*R2*.fastq.gz {fastq_folder}/{s}.R2.fastq.gz', shell=True)\n",
    "    subprocess.run(f'mv {fastq_folder}/*{s}*R3*.fastq.gz {fastq_folder}/{s}.R3.fastq.gz', shell=True)"
   ]
  },
  {
   "cell_type": "markdown",
   "id": "fceab47d",
   "metadata": {},
   "source": [
    "## Barcoding reads"
   ]
  },
  {
   "cell_type": "code",
   "execution_count": null,
   "id": "46a1768b",
   "metadata": {},
   "outputs": [],
   "source": [
    "import subprocess, pathlib\n",
    "script_folder = 'script_folder'\n",
    "ligation = f'{script_folder}/barcode_files/ligation_barcodes.pickle2'\n",
    "rt_barcodes = f'{script_folder}/barcode_files/RT_barcodes.pickle2'\n",
    "randomN = f'{script_folder}/barcode_files/RT_randomN_barcodes.txt'\n",
    "barcoded = pathlib.Path(output_folder)/'barcoded_fastqs'\n",
    "barcoded.mkdir(parents=True, exist_ok=True)\n",
    "if sequencing_type == 'paired-end':\n",
    "    script = f'{script_folder}/barcoding_reads_paired.py'\n",
    "    cmd = f'python {script} {fastq_folder} {sample_id_file} {barcoded} {ligation} {rt_barcodes} {cores} {randomN}'\n",
    "else:\n",
    "    script = f'{script_folder}/barcoding_reads_single.py'\n",
    "    cmd = f'python {script} {fastq_folder} {sample_id_file} {barcoded} {ligation} {rt_barcodes} {cores}'\n",
    "subprocess.run(cmd, shell=True, check=True)"
   ]
  },
  {
   "cell_type": "markdown",
   "id": "ebf4efaa",
   "metadata": {},
   "source": [
    "## Trim reads"
   ]
  },
  {
   "cell_type": "code",
   "execution_count": null,
   "id": "dddeb1f5",
   "metadata": {},
   "outputs": [],
   "source": [
    "import subprocess, pathlib\n",
    "trimmed = pathlib.Path(output_folder)/'trimmed_fastqs'\n",
    "trimmed.mkdir(parents=True, exist_ok=True)\n",
    "commands = []\n",
    "for sample in open(sample_id_file):\n",
    "    s = sample.strip()\n",
    "    if not s: continue\n",
    "    if sequencing_type == 'paired-end':\n",
    "        cmd = f'trim_galore --paired {barcoded}/{s}*R1*.gz {barcoded}/{s}*R2*.gz -a2 AAAAAAAA --stringency 3 -o {trimmed}'\n",
    "    else:\n",
    "        cmd = f'trim_galore {barcoded}/{s}*R2*.gz -a AAAAAAAA --stringency 3 --three_prime_clip_R1 1 -o {trimmed}'\n",
    "    commands.append(cmd)\n",
    "for cmd in commands:\n",
    "    subprocess.run(cmd, shell=True, check=True)"
   ]
  },
  {
   "cell_type": "markdown",
   "id": "fdd9799e",
   "metadata": {},
   "source": [
    "## STAR alignment"
   ]
  },
  {
   "cell_type": "code",
   "execution_count": null,
   "id": "de4a9064",
   "metadata": {},
   "outputs": [],
   "source": [
    "import subprocess, pathlib\n",
    "aligned = pathlib.Path(output_folder)/'STAR_alignment'\n",
    "aligned.mkdir(parents=True, exist_ok=True)\n",
    "subprocess.run(f'STAR --genomeDir {star_index} --genomeLoad Remove', shell=True)\n",
    "for sample in open(sample_id_file):\n",
    "    s = sample.strip()\n",
    "    if not s: continue\n",
    "    if sequencing_type == 'paired-end':\n",
    "        cmd = f'STAR --runThreadN {cores} --outSAMstrandField intronMotif --genomeDir {star_index} --readFilesCommand zcat --readFilesIn {trimmed}/{s}*R1*gz {trimmed}/{s}*R2*gz --outFileNamePrefix {aligned}/{s} --genomeLoad LoadAndKeep'\n",
    "    else:\n",
    "        cmd = f'STAR --runThreadN {cores} --outSAMstrandField intronMotif --genomeDir {star_index} --readFilesCommand zcat --readFilesIn {trimmed}/{s}*R2*gz --outFileNamePrefix {aligned}/{s} --genomeLoad LoadAndKeep'\n",
    "    subprocess.run(cmd, shell=True, check=True)\n",
    "subprocess.run(f'STAR --genomeDir {star_index} --genomeLoad Remove', shell=True)"
   ]
  },
  {
   "cell_type": "markdown",
   "id": "d734bcfb",
   "metadata": {},
   "source": [
    "## Sort and filter SAM files"
   ]
  },
  {
   "cell_type": "code",
   "execution_count": null,
   "id": "933d24c1",
   "metadata": {},
   "outputs": [],
   "source": [
    "import subprocess, pathlib\n",
    "filtered = pathlib.Path(output_folder)/'filtered_sam'\n",
    "filtered.mkdir(parents=True, exist_ok=True)\n",
    "for sample in open(sample_id_file):\n",
    "    s = sample.strip()\n",
    "    if not s: continue\n",
    "    sam = f'{aligned}/{s}.Aligned.out.sam'\n",
    "    if sequencing_type == 'paired-end':\n",
    "        cmd = f'samtools view -q 30 -f 2 -F 780 {sam} | sort -k1,1 -k3,3 -k4,4n > {filtered}/{s}.noheader.sam'\n",
    "    else:\n",
    "        cmd = f'samtools view -q 30 -F 772 {sam} | sort -k1,1 -k3,3 -k4,4n > {filtered}/{s}.noheader.sam'\n",
    "    subprocess.run(cmd, shell=True, check=True)\n",
    "    subprocess.run(f'grep \"@\" {sam} > {filtered}/{s}.header.sam', shell=True, check=True)\n",
    "    subprocess.run(f'cat {filtered}/{s}.header.sam {filtered}/{s}.noheader.sam > {filtered}/{s}.sam', shell=True, check=True)\n",
    "    subprocess.run(f'rm {filtered}/{s}.header.sam {filtered}/{s}.noheader.sam', shell=True, check=True)"
   ]
  },
  {
   "cell_type": "markdown",
   "id": "9eb9df16",
   "metadata": {},
   "source": [
    "## Remove duplicates"
   ]
  },
  {
   "cell_type": "code",
   "execution_count": null,
   "id": "34f2ce64",
   "metadata": {},
   "outputs": [],
   "source": [
    "import subprocess, pathlib\n",
    "dedup = pathlib.Path(output_folder)/'duplicates_removed'\n",
    "dedup.mkdir(parents=True, exist_ok=True)\n",
    "if sequencing_type == 'paired-end':\n",
    "    dup_script = f'{script_folder}/duplicate_removal_paired.py'\n",
    "else:\n",
    "    dup_script = f'{script_folder}/duplicate_removal_single.py'\n",
    "subprocess.run(f'python {dup_script} {filtered}/ {sample_id_file} {dedup}/ {cores}', shell=True, check=True)"
   ]
  },
  {
   "cell_type": "markdown",
   "id": "4ddf7c43",
   "metadata": {},
   "source": [
    "## Calculate read numbers"
   ]
  },
  {
   "cell_type": "code",
   "execution_count": null,
   "id": "e1d28335",
   "metadata": {},
   "outputs": [],
   "source": [
    "import subprocess, pathlib\n",
    "report = pathlib.Path(output_folder)/'report'\n",
    "readnum_dir = report/'read_num'\n",
    "readnum_dir.mkdir(parents=True, exist_ok=True)\n",
    "with open(readnum_dir/'read_number.csv', 'w') as out:\n",
    "    out.write('sample,total reads,after filtering barcode,after trimming,uniquely aligned reads,After remove duplicates\n",
    "')\n",
    "    for sample in open(sample_id_file):\n",
    "        s = sample.strip()\n",
    "        if not s: continue\n",
    "        total = int(subprocess.check_output(f'zcat {fastq_folder}/{s}*R2*.gz | wc -l', shell=True))//4\n",
    "        filtered_ct = int(subprocess.check_output(f'zcat {barcoded}/{s}*R2*.gz | wc -l', shell=True))//4\n",
    "        trim_ct = int(subprocess.check_output(f'zcat {trimmed}/{s}*R2*.gz | wc -l', shell=True))//4\n",
    "        uniq = int(subprocess.check_output(f'samtools view {filtered}/{s}.sam | wc -l', shell=True))\n",
    "        dedup_ct = int(subprocess.check_output(f'samtools view {dedup}/{s}.sam | wc -l', shell=True))\n",
    "        if sequencing_type == 'paired-end':\n",
    "            uniq//=2\n",
    "            dedup_ct//=2\n",
    "        out.write(f'{s},{total},{filtered_ct},{trim_ct},{uniq},{dedup_ct}\n",
    "')"
   ]
  },
  {
   "cell_type": "markdown",
   "id": "646d8779",
   "metadata": {},
   "source": [
    "## Gene counting"
   ]
  },
  {
   "cell_type": "code",
   "execution_count": null,
   "id": "46958a8d",
   "metadata": {},
   "outputs": [],
   "source": [
    "import subprocess, pathlib\n",
    "gene_dir = report/'Gene_count'\n",
    "gene_dir.mkdir(parents=True, exist_ok=True)\n",
    "if sequencing_type == 'paired-end':\n",
    "    script = f'{script_folder}/gene_counting_paired.py'\n",
    "else:\n",
    "    script = f'{script_folder}/gene_counting_single.py'\n",
    "subprocess.run(f'python {script} {gtf_file} {dedup}/ {gene_dir}/ {sample_id_file} {cores} {randomN}', shell=True, check=True)"
   ]
  },
  {
   "cell_type": "markdown",
   "id": "9ccb21d5",
   "metadata": {},
   "source": [
    "## Gene post-processing"
   ]
  },
  {
   "cell_type": "code",
   "execution_count": null,
   "id": "8326c02f",
   "metadata": {},
   "outputs": [],
   "source": [
    "import subprocess, pathlib\n",
    "gene_out = report/'out/genes'\n",
    "gene_out.mkdir(parents=True, exist_ok=True)\n",
    "post_gene = f'{script_folder}/post_processing_genes.py'\n",
    "subprocess.run(f'python {post_gene} {gene_dir}/ {gene_out}/ {sample_id_file} {rt_matching_file}', shell=True, check=True)"
   ]
  },
  {
   "cell_type": "markdown",
   "id": "7658430a",
   "metadata": {},
   "source": [
    "## Exon counting"
   ]
  },
  {
   "cell_type": "code",
   "execution_count": null,
   "id": "8a82e5c8",
   "metadata": {},
   "outputs": [],
   "source": [
    "import subprocess, pathlib\n",
    "exon_dir = report/'Exon_count'\n",
    "exon_dir.mkdir(parents=True, exist_ok=True)\n",
    "if sequencing_type == 'paired-end':\n",
    "    exon_script = f'{script_folder}/exon_counting_paired.py'\n",
    "else:\n",
    "    exon_script = f'{script_folder}/exon_counting_single.py'\n",
    "subprocess.run(f'python {exon_script} {gtf_file_exons} {dedup}/ {exon_dir}/ {sample_id_file} {cores}', shell=True, check=True)"
   ]
  },
  {
   "cell_type": "markdown",
   "id": "530474c6",
   "metadata": {},
   "source": [
    "## Exon post-processing"
   ]
  },
  {
   "cell_type": "code",
   "execution_count": null,
   "id": "b57d2d01",
   "metadata": {},
   "outputs": [],
   "source": [
    "import subprocess, pathlib\n",
    "exon_out = report/'out/exons'\n",
    "exon_out.mkdir(parents=True, exist_ok=True)\n",
    "post_exon = f'{script_folder}/post_processing_exons.py'\n",
    "subprocess.run(f'python {post_exon} {exon_dir}/ {exon_out}/ {sample_id_file} {rt_matching_file} {sequencing_type}', shell=True, check=True)"
   ]
  },
  {
   "cell_type": "markdown",
   "id": "c65603f9",
   "metadata": {},
   "source": [
    "## Clean intermediate files"
   ]
  },
  {
   "cell_type": "code",
   "execution_count": null,
   "id": "5a89ac36",
   "metadata": {},
   "outputs": [],
   "source": [
    "import shutil\n",
    "shutil.rmtree(barcoded)\n",
    "shutil.rmtree(trimmed)\n",
    "shutil.rmtree(aligned)\n",
    "shutil.rmtree(filtered)"
   ]
  },
  {
   "cell_type": "markdown",
   "id": "96dc540f",
   "metadata": {},
   "source": [
    "## Finished"
   ]
  },
  {
   "cell_type": "code",
   "execution_count": null,
   "id": "c1fa9d91",
   "metadata": {},
   "outputs": [],
   "source": [
    "print('EasySci-RNA pipeline completed')"
   ]
  }
 ],
 "metadata": {
  "kernelspec": {
   "display_name": "Python 3",
   "language": "python",
   "name": "python3"
  },
  "language_info": {
   "name": "python",
   "version": "3.x"
  }
 },
 "nbformat": 4,
 "nbformat_minor": 5
}
